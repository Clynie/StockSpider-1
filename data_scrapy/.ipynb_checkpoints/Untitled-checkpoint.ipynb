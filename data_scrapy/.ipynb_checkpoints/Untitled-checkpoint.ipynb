{
 "cells": [
  {
   "cell_type": "code",
   "execution_count": 1,
   "metadata": {},
   "outputs": [
    {
     "ename": "ModuleNotFoundError",
     "evalue": "No module named 'pymongo'",
     "output_type": "error",
     "traceback": [
      "\u001b[0;31m---------------------------------------------------------------------------\u001b[0m",
      "\u001b[0;31mModuleNotFoundError\u001b[0m                       Traceback (most recent call last)",
      "\u001b[0;32m<ipython-input-1-f7f96378f71a>\u001b[0m in \u001b[0;36m<module>\u001b[0;34m()\u001b[0m\n\u001b[1;32m     15\u001b[0m \u001b[0;32mfrom\u001b[0m \u001b[0mutils\u001b[0m \u001b[0;32mimport\u001b[0m \u001b[0mmyDict\u001b[0m\u001b[0;34m\u001b[0m\u001b[0;34m\u001b[0m\u001b[0m\n\u001b[1;32m     16\u001b[0m \u001b[0;34m\u001b[0m\u001b[0m\n\u001b[0;32m---> 17\u001b[0;31m \u001b[0;32mimport\u001b[0m \u001b[0mpymongo\u001b[0m\u001b[0;34m\u001b[0m\u001b[0;34m\u001b[0m\u001b[0m\n\u001b[0m\u001b[1;32m     18\u001b[0m \u001b[0;34m\u001b[0m\u001b[0m\n\u001b[1;32m     19\u001b[0m \u001b[0mclient\u001b[0m \u001b[0;34m=\u001b[0m \u001b[0mpymongo\u001b[0m\u001b[0;34m.\u001b[0m\u001b[0mMongoClient\u001b[0m\u001b[0;34m(\u001b[0m\u001b[0mhost\u001b[0m\u001b[0;34m=\u001b[0m\u001b[0;34m\"localhost\"\u001b[0m\u001b[0;34m,\u001b[0m\u001b[0mport\u001b[0m\u001b[0;34m=\u001b[0m\u001b[0;36m27017\u001b[0m\u001b[0;34m)\u001b[0m\u001b[0;34m\u001b[0m\u001b[0;34m\u001b[0m\u001b[0m\n",
      "\u001b[0;31mModuleNotFoundError\u001b[0m: No module named 'pymongo'"
     ]
    }
   ],
   "source": [
    "# -*- coding: utf-8 -*-\n",
    "# author:           inspurer(月小水长)\n",
    "# pc_type           lenovo\n",
    "# create_time:      2019/12/1 23:07\n",
    "# file_name:        history_stock_quotes_scrapy.py\n",
    "# github            https://github.com/inspurer\n",
    "# qq邮箱            2391527690@qq.com\n",
    "# 微信公众号         月小水长(ID: inspurer)\n",
    "\n",
    "import requests\n",
    "\n",
    "from lxml import etree\n",
    "\n",
    "# from stock_analysis.utils import myDict\n",
    "from utils import myDict\n",
    "\n",
    "import pymongo\n",
    "\n",
    "client = pymongo.MongoClient(host=\"localhost\",port=27017)\n",
    "db = client['stock']\n",
    "table_basic = db['basic']\n",
    "\n",
    "basis = table_basic.find()\n",
    "print(basis.count())\n",
    "stock_basis = myDict.AllowKeyRepeatDict()\n",
    "for basic in basis:\n",
    "    stock_basis.add(key=basic['name'],value=basic['code'])\n",
    "\n",
    "stock_name = '中信证券'\n",
    "stock_code = stock_basis.query(key=stock_name)[0]\n",
    "table_quotes = db[stock_name+'_'+stock_code]\n",
    "\n",
    "\n",
    "headers = {\n",
    "    'Referer': 'http://quotes.money.163.com/trade/lsjysj_600030.html?year=2019&season=4',\n",
    "    'User-Agent': 'Mozilla/5.0 (Windows NT 10.0; Win64; x64) AppleWebKit/537.36 (KHTML, like Gecko) Chrome/75.0.3770.142 Safari/537.36'\n",
    "}\n",
    "\n",
    "base_url = 'http://quotes.money.163.com/trade/lsjysj_{code}.html'\n",
    "# 2019 年\n",
    "year = 2019\n",
    "season = 1\n",
    "# 四季度"
   ]
  },
  {
   "cell_type": "code",
   "execution_count": null,
   "metadata": {},
   "outputs": [],
   "source": [
    "for season in range(1,5):\n",
    "    params = {\n",
    "        'year':year,\n",
    "        'season':season\n",
    "    }\n",
    "    response = requests.get(url=base_url.format(code=stock_code),headers=headers,params=params)\n",
    "\n",
    "    html = etree.HTML(response.text)\n",
    "    for tr in html.xpath('//table[@class=\"table_bg001 border_box limit_sale\"]/tr'):\n",
    "        tds = tr.xpath('.//td/text()')\n",
    "        date = tds[0].replace('-','')\n",
    "        open,high,low,close = tds[1],tds[2],tds[3],tds[4]\n",
    "        change,change_pencentage = tds[5],tds[6]\n",
    "        deal_amount,deal_money = tds[7].replace(',',''),tds[8].replace(',','') # 成交量，成交金额（万元）\n",
    "        print(date,open,high,low,close,change,change_pencentage,deal_amount,deal_money)\n",
    "        data = {\n",
    "            'date': int(date),\n",
    "            'open': open,\n",
    "            'high': high,\n",
    "            'low': low,\n",
    "            'close': close,\n",
    "            'change': change,\n",
    "            'change_pencentage': change_pencentage,\n",
    "            'deal_amount': deal_amount,\n",
    "            'deal_money': deal_money\n",
    "        }\n",
    "        # 上海和深圳可能有两个同名的股票\n",
    "        # 上海股市也可能有同名股票，但是code不一样\n",
    "        table_quotes.update_one({'date': date}, {'$set': data}, True)"
   ]
  }
 ],
 "metadata": {
  "kernelspec": {
   "display_name": "Python_Scrapy",
   "language": "python",
   "name": "python_scrapy"
  },
  "language_info": {
   "codemirror_mode": {
    "name": "ipython",
    "version": 3
   },
   "file_extension": ".py",
   "mimetype": "text/x-python",
   "name": "python",
   "nbconvert_exporter": "python",
   "pygments_lexer": "ipython3",
   "version": "3.7.6"
  }
 },
 "nbformat": 4,
 "nbformat_minor": 2
}
